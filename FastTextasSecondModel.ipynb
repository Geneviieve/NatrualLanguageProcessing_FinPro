{
 "cells": [
  {
   "cell_type": "code",
   "execution_count": null,
   "id": "8d51c3c6",
   "metadata": {},
   "outputs": [],
   "source": [
    "pip install git+https://github.com/facebookresearch/fastText.git"
   ]
  },
  {
   "cell_type": "code",
   "execution_count": null,
   "id": "51a57e44",
   "metadata": {},
   "outputs": [],
   "source": [
    "pip install fasttext-wheel"
   ]
  },
  {
   "cell_type": "code",
   "execution_count": null,
   "id": "f10d88c6",
   "metadata": {},
   "outputs": [],
   "source": [
    "import pandas as pd\n",
    "\n",
    "df = pd.read_csv(\"datasets/cleanedDataSecondModel_merged.csv\")\n",
    "\n",
    "# Convert to fastText format\n",
    "def save_fasttext_format(df, filepath):\n",
    "    with open(filepath, 'w', encoding='utf-8') as f:\n",
    "        for text, label in zip(df['quote'], df['category']):\n",
    "            line = f\"__label__{label} {text.strip()}\\n\"\n",
    "            f.write(line)\n",
    "\n",
    "save_fasttext_format(df.sample(frac=0.8, random_state=42), \"datasets/FTtrain.txt\")\n",
    "save_fasttext_format(df.drop(df.sample(frac=0.8, random_state=42).index), \"datasets/FTtest.txt\")\n"
   ]
  },
  {
   "cell_type": "code",
   "execution_count": null,
   "id": "7c58cb31",
   "metadata": {},
   "outputs": [],
   "source": [
    "import fasttext\n",
    "\n",
    "model = fasttext.train_supervised(input=\"datasets/FTtrain.txt\", epoch=5, lr=1, wordNgrams=4, verbose=2)\n",
    "model.save_model(\"models/fasttext_model.bin\")\n"
   ]
  },
  {
   "cell_type": "code",
   "execution_count": null,
   "id": "c31462c1",
   "metadata": {},
   "outputs": [
    {
     "data": {
      "text/plain": [
       "(200, 0.09, 0.09)"
      ]
     },
     "execution_count": 13,
     "metadata": {},
     "output_type": "execute_result"
    }
   ],
   "source": [
    "model.test(\"datasets/FTtest.txt\")\n"
   ]
  },
  {
   "cell_type": "code",
   "execution_count": null,
   "id": "82ea0e2a",
   "metadata": {},
   "outputs": [
    {
     "name": "stdout",
     "output_type": "stream",
     "text": [
      "Predicted Category: other\n",
      "Confidence: 0.06801826506853104\n"
     ]
    }
   ],
   "source": [
    "quote = \"dont give up\"\n",
    "label, prob = model.predict(quote)\n",
    "\n",
    "print(\"Predicted Category:\", label[0].replace(\"__label__\", \"\"))\n",
    "print(\"Confidence:\", prob[0])\n"
   ]
  },
  {
   "cell_type": "code",
   "execution_count": 15,
   "id": "29bc854b",
   "metadata": {},
   "outputs": [
    {
     "name": "stdout",
     "output_type": "stream",
     "text": [
      "                precision    recall  f1-score   support\n",
      "\n",
      "      ambition       0.00      0.00      0.00         2\n",
      "  appreciating       0.00      0.00      0.00         5\n",
      "  appreciation       0.00      0.00      0.00         1\n",
      "       believe       0.00      0.00      0.00         4\n",
      "        caring       0.00      0.00      0.00         1\n",
      "     character       0.00      0.00      0.00         1\n",
      "         cheer       0.00      0.00      0.00         3\n",
      "    commitment       0.00      0.00      0.00         3\n",
      "        common       0.00      0.00      0.00         2\n",
      "    compassion       0.00      0.00      0.00         5\n",
      "   compliments       0.00      0.00      0.00         2\n",
      "    confidence       0.00      0.00      0.00         7\n",
      "       courage       0.00      0.00      0.00         4\n",
      "      courtesy       0.00      0.00      0.00         2\n",
      "    creativity       0.00      0.00      0.00         5\n",
      "    dedication       0.00      0.00      0.00         1\n",
      "         drive       0.00      0.00      0.00         2\n",
      "     education       0.00      0.00      0.00         2\n",
      " encouragement       0.00      0.00      0.00         1\n",
      "      equality       0.00      0.00      0.00         2\n",
      "        family       0.00      0.00      0.00         3\n",
      "       fitness       0.00      0.00      0.00         2\n",
      "   forgiveness       0.00      0.00      0.00         3\n",
      "    friendship       0.00      0.00      0.00         3\n",
      "           get       0.00      0.00      0.00         2\n",
      "        giving       0.00      0.00      0.00         2\n",
      "          good       0.00      0.00      0.00         3\n",
      "     gratitude       0.00      0.00      0.00         6\n",
      "          hard       0.00      0.00      0.00         1\n",
      "        health       0.00      0.00      0.00         3\n",
      "       helping       0.00      0.00      0.00         4\n",
      "          hope       0.00      0.00      0.00         4\n",
      "      humility       0.00      0.00      0.00         1\n",
      "     including       0.00      0.00      0.00         2\n",
      "   inspiration       0.00      0.00      0.00         2\n",
      "           joy       0.00      0.00      0.00         4\n",
      "      kindness       0.00      0.00      0.00         3\n",
      "      laughter       0.00      0.00      0.00         3\n",
      "    leadership       0.00      0.00      0.00         1\n",
      "      learning       0.00      0.00      0.00         2\n",
      "     listening       0.00      0.00      0.00         1\n",
      "      literacy       0.00      0.00      0.00         3\n",
      "          live       0.00      0.00      0.00         1\n",
      "          love       0.00      0.00      0.00         2\n",
      "       loyalty       0.00      0.00      0.00         1\n",
      "        making       0.00      0.00      0.00         2\n",
      "   mindfulness       0.00      0.00      0.00         8\n",
      "      optimism       0.00      0.00      0.00         3\n",
      "         other       0.09      1.00      0.17        18\n",
      "    overcoming       0.00      0.00      0.00         4\n",
      "      patience       0.00      0.00      0.00         2\n",
      "         peace       0.00      0.00      0.00         1\n",
      "  perseverance       0.00      0.00      0.00         2\n",
      "   persistence       0.00      0.00      0.00         3\n",
      "      practice       0.00      0.00      0.00         2\n",
      "       purpose       0.00      0.00      0.00         2\n",
      "    resilience       0.00      0.00      0.00         1\n",
      "responsibility       0.00      0.00      0.00         2\n",
      "         right       0.00      0.00      0.00         3\n",
      "     self-care       0.00      0.00      0.00         2\n",
      "       service       0.00      0.00      0.00         1\n",
      "       sharing       0.00      0.00      0.00         2\n",
      "         smile       0.00      0.00      0.00         3\n",
      "          soul       0.00      0.00      0.00         3\n",
      "        spread       0.00      0.00      0.00         3\n",
      "   stewardship       0.00      0.00      0.00         4\n",
      "      strength       0.00      0.00      0.00         2\n",
      "          true       0.00      0.00      0.00         1\n",
      "         trust       0.00      0.00      0.00         2\n",
      "         unity       0.00      0.00      0.00         2\n",
      "  volunteering       0.00      0.00      0.00         1\n",
      "        wisdom       0.00      0.00      0.00         4\n",
      "\n",
      "      accuracy                           0.09       200\n",
      "     macro avg       0.00      0.01      0.00       200\n",
      "  weighted avg       0.01      0.09      0.01       200\n",
      "\n"
     ]
    },
    {
     "name": "stderr",
     "output_type": "stream",
     "text": [
      "c:\\Marsha\\College Apps\\Python\\environments\\nlp\\lib\\site-packages\\sklearn\\metrics\\_classification.py:1469: UndefinedMetricWarning: Precision and F-score are ill-defined and being set to 0.0 in labels with no predicted samples. Use `zero_division` parameter to control this behavior.\n",
      "  _warn_prf(average, modifier, msg_start, len(result))\n",
      "c:\\Marsha\\College Apps\\Python\\environments\\nlp\\lib\\site-packages\\sklearn\\metrics\\_classification.py:1469: UndefinedMetricWarning: Precision and F-score are ill-defined and being set to 0.0 in labels with no predicted samples. Use `zero_division` parameter to control this behavior.\n",
      "  _warn_prf(average, modifier, msg_start, len(result))\n",
      "c:\\Marsha\\College Apps\\Python\\environments\\nlp\\lib\\site-packages\\sklearn\\metrics\\_classification.py:1469: UndefinedMetricWarning: Precision and F-score are ill-defined and being set to 0.0 in labels with no predicted samples. Use `zero_division` parameter to control this behavior.\n",
      "  _warn_prf(average, modifier, msg_start, len(result))\n"
     ]
    }
   ],
   "source": [
    "from sklearn.metrics import classification_report, confusion_matrix\n",
    "test_texts = []\n",
    "true_labels = []\n",
    "\n",
    "with open(\"datasets/FTtest.txt\", \"r\", encoding=\"utf-8\") as f:\n",
    "    for line in f:\n",
    "        parts = line.strip().split(\" \", 1)\n",
    "        if len(parts) == 2:\n",
    "            label, text = parts\n",
    "            test_texts.append(text)\n",
    "            true_labels.append(label.replace(\"__label__\", \"\"))\n",
    "\n",
    "\n",
    "predicted_labels = []\n",
    "\n",
    "for text in test_texts:\n",
    "    label, _ = model.predict(text)\n",
    "    predicted_labels.append(label[0].replace(\"__label__\", \"\"))\n",
    "\n",
    "\n",
    "print(classification_report(true_labels, predicted_labels))\n",
    "\n"
   ]
  }
 ],
 "metadata": {
  "kernelspec": {
   "display_name": "nlp",
   "language": "python",
   "name": "python3"
  },
  "language_info": {
   "codemirror_mode": {
    "name": "ipython",
    "version": 3
   },
   "file_extension": ".py",
   "mimetype": "text/x-python",
   "name": "python",
   "nbconvert_exporter": "python",
   "pygments_lexer": "ipython3",
   "version": "3.10.9"
  }
 },
 "nbformat": 4,
 "nbformat_minor": 5
}
