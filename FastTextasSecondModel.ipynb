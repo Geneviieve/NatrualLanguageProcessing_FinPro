{
 "cells": [
  {
   "cell_type": "code",
   "execution_count": 9,
   "id": "8d51c3c6",
   "metadata": {},
   "outputs": [
    {
     "name": "stdout",
     "output_type": "stream",
     "text": [
      "Collecting git+https://github.com/facebookresearch/fastText.git\n",
      "  Cloning https://github.com/facebookresearch/fastText.git to c:\\users\\user\\appdata\\local\\temp\\pip-req-build-_e1_tl8m\n",
      "  Resolved https://github.com/facebookresearch/fastText.git to commit 1142dc4c4ecbc19cc16eee5cdd28472e689267e6\n",
      "  Installing build dependencies: started\n",
      "  Installing build dependencies: finished with status 'done'\n",
      "  Getting requirements to build wheel: started\n",
      "  Getting requirements to build wheel: finished with status 'done'\n",
      "  Preparing metadata (pyproject.toml): started\n",
      "  Preparing metadata (pyproject.toml): finished with status 'done'\n",
      "Requirement already satisfied: setuptools>=0.7.0 in c:\\marsha\\college apps\\python\\environments\\nlp\\lib\\site-packages (from fasttext==0.9.2) (65.5.0)\n",
      "Requirement already satisfied: numpy in c:\\marsha\\college apps\\python\\environments\\nlp\\lib\\site-packages (from fasttext==0.9.2) (1.25.2)\n",
      "Requirement already satisfied: pybind11>=2.2 in c:\\marsha\\college apps\\python\\environments\\nlp\\lib\\site-packages (from fasttext==0.9.2) (2.13.6)\n",
      "Building wheels for collected packages: fasttext\n",
      "  Building wheel for fasttext (pyproject.toml): started\n",
      "  Building wheel for fasttext (pyproject.toml): finished with status 'error'\n",
      "Failed to build fasttext\n",
      "Note: you may need to restart the kernel to use updated packages.\n"
     ]
    },
    {
     "name": "stderr",
     "output_type": "stream",
     "text": [
      "  Running command git clone --filter=blob:none --quiet https://github.com/facebookresearch/fastText.git 'C:\\Users\\USER\\AppData\\Local\\Temp\\pip-req-build-_e1_tl8m'\n",
      "  error: subprocess-exited-with-error\n",
      "  \n",
      "  × Building wheel for fasttext (pyproject.toml) did not run successfully.\n",
      "  │ exit code: 1\n",
      "  ╰─> [45 lines of output]\n",
      "      C:\\Users\\USER\\AppData\\Local\\Temp\\pip-build-env-_holie66\\overlay\\Lib\\site-packages\\setuptools\\dist.py:599: SetuptoolsDeprecationWarning: Invalid dash-separated key 'description-file' in 'metadata' (setup.cfg), please use the underscore name 'description_file' instead.\n",
      "      !!\n",
      "      \n",
      "              ********************************************************************************\n",
      "              Usage of dash-separated 'description-file' will not be supported in future\n",
      "              versions. Please use the underscore name 'description_file' instead.\n",
      "              (Affected: fasttext).\n",
      "      \n",
      "              By 2026-Mar-03, you need to update your project and remove deprecated calls\n",
      "              or your builds will no longer be supported.\n",
      "      \n",
      "              See https://setuptools.pypa.io/en/latest/userguide/declarative_config.html for details.\n",
      "              ********************************************************************************\n",
      "      \n",
      "      !!\n",
      "        opt = self._enforce_underscore(opt, section)\n",
      "      C:\\Users\\USER\\AppData\\Local\\Temp\\pip-build-env-_holie66\\overlay\\Lib\\site-packages\\setuptools\\dist.py:759: SetuptoolsDeprecationWarning: License classifiers are deprecated.\n",
      "      !!\n",
      "      \n",
      "              ********************************************************************************\n",
      "              Please consider removing the following classifiers in favor of a SPDX license expression:\n",
      "      \n",
      "              License :: OSI Approved :: MIT License\n",
      "      \n",
      "              See https://packaging.python.org/en/latest/guides/writing-pyproject-toml/#license for details.\n",
      "              ********************************************************************************\n",
      "      \n",
      "      !!\n",
      "        self._finalize_license_expression()\n",
      "      running bdist_wheel\n",
      "      running build\n",
      "      running build_py\n",
      "      creating build\\lib.win-amd64-cpython-310\\fasttext\n",
      "      copying python\\fasttext_module\\fasttext\\FastText.py -> build\\lib.win-amd64-cpython-310\\fasttext\n",
      "      copying python\\fasttext_module\\fasttext\\__init__.py -> build\\lib.win-amd64-cpython-310\\fasttext\n",
      "      creating build\\lib.win-amd64-cpython-310\\fasttext\\util\n",
      "      copying python\\fasttext_module\\fasttext\\util\\util.py -> build\\lib.win-amd64-cpython-310\\fasttext\\util\n",
      "      copying python\\fasttext_module\\fasttext\\util\\__init__.py -> build\\lib.win-amd64-cpython-310\\fasttext\\util\n",
      "      creating build\\lib.win-amd64-cpython-310\\fasttext\\tests\n",
      "      copying python\\fasttext_module\\fasttext\\tests\\test_configurations.py -> build\\lib.win-amd64-cpython-310\\fasttext\\tests\n",
      "      copying python\\fasttext_module\\fasttext\\tests\\test_script.py -> build\\lib.win-amd64-cpython-310\\fasttext\\tests\n",
      "      copying python\\fasttext_module\\fasttext\\tests\\__init__.py -> build\\lib.win-amd64-cpython-310\\fasttext\\tests\n",
      "      running build_ext\n",
      "      building 'fasttext_pybind' extension\n",
      "      error: Microsoft Visual C++ 14.0 or greater is required. Get it with \"Microsoft C++ Build Tools\": https://visualstudio.microsoft.com/visual-cpp-build-tools/\n",
      "      [end of output]\n",
      "  \n",
      "  note: This error originates from a subprocess, and is likely not a problem with pip.\n",
      "  ERROR: Failed building wheel for fasttext\n",
      "ERROR: Could not build wheels for fasttext, which is required to install pyproject.toml-based projects\n",
      "\n",
      "[notice] A new release of pip available: 22.3.1 -> 25.1.1\n",
      "[notice] To update, run: python.exe -m pip install --upgrade pip\n"
     ]
    }
   ],
   "source": [
    "pip install git+https://github.com/facebookresearch/fastText.git"
   ]
  },
  {
   "cell_type": "code",
   "execution_count": 10,
   "id": "51a57e44",
   "metadata": {},
   "outputs": [
    {
     "name": "stdout",
     "output_type": "stream",
     "text": [
      "Requirement already satisfied: fasttext-wheel in c:\\marsha\\college apps\\python\\environments\\nlp\\lib\\site-packages (0.9.2)\n",
      "Requirement already satisfied: pybind11>=2.2 in c:\\marsha\\college apps\\python\\environments\\nlp\\lib\\site-packages (from fasttext-wheel) (2.13.6)\n",
      "Requirement already satisfied: numpy in c:\\marsha\\college apps\\python\\environments\\nlp\\lib\\site-packages (from fasttext-wheel) (1.25.2)\n",
      "Requirement already satisfied: setuptools>=0.7.0 in c:\\marsha\\college apps\\python\\environments\\nlp\\lib\\site-packages (from fasttext-wheel) (65.5.0)\n",
      "Note: you may need to restart the kernel to use updated packages.\n"
     ]
    },
    {
     "name": "stderr",
     "output_type": "stream",
     "text": [
      "\n",
      "[notice] A new release of pip available: 22.3.1 -> 25.1.1\n",
      "[notice] To update, run: python.exe -m pip install --upgrade pip\n"
     ]
    }
   ],
   "source": [
    "pip install fasttext-wheel"
   ]
  },
  {
   "cell_type": "code",
   "execution_count": 11,
   "id": "f10d88c6",
   "metadata": {},
   "outputs": [],
   "source": [
    "import pandas as pd\n",
    "\n",
    "df = pd.read_csv(\"datasets/cleanedDataSecondModel_merged.csv\")\n",
    "\n",
    "# Convert to fastText format\n",
    "def save_fasttext_format(df, filepath):\n",
    "    with open(filepath, 'w', encoding='utf-8') as f:\n",
    "        for text, label in zip(df['quote'], df['category']):\n",
    "            line = f\"__label__{label} {text.strip()}\\n\"\n",
    "            f.write(line)\n",
    "\n",
    "# Save to training and test files\n",
    "save_fasttext_format(df.sample(frac=0.8, random_state=42), \"datasets/FTtrain.txt\")\n",
    "save_fasttext_format(df.drop(df.sample(frac=0.8, random_state=42).index), \"datasets/FTtest.txt\")\n"
   ]
  },
  {
   "cell_type": "code",
   "execution_count": 12,
   "id": "7c58cb31",
   "metadata": {},
   "outputs": [],
   "source": [
    "import fasttext\n",
    "\n",
    "# Train the classifier\n",
    "model = fasttext.train_supervised(input=\"datasets/FTtrain.txt\", epoch=5, lr=1, wordNgrams=4, verbose=2)\n",
    "\n",
    "# Save the model (optional)\n",
    "model.save_model(\"models/fasttext_model.bin\")\n"
   ]
  },
  {
   "cell_type": "code",
   "execution_count": 13,
   "id": "c31462c1",
   "metadata": {},
   "outputs": [
    {
     "data": {
      "text/plain": [
       "(200, 0.09, 0.09)"
      ]
     },
     "execution_count": 13,
     "metadata": {},
     "output_type": "execute_result"
    }
   ],
   "source": [
    "# Evaluate on test set\n",
    "model.test(\"datasets/FTtest.txt\")\n"
   ]
  },
  {
   "cell_type": "code",
   "execution_count": 14,
   "id": "82ea0e2a",
   "metadata": {},
   "outputs": [
    {
     "name": "stdout",
     "output_type": "stream",
     "text": [
      "Predicted Category: other\n",
      "Confidence: 0.06801826506853104\n"
     ]
    }
   ],
   "source": [
    "quote = \"dont give up\"\n",
    "label, prob = model.predict(quote)\n",
    "\n",
    "print(\"Predicted Category:\", label[0].replace(\"__label__\", \"\"))\n",
    "print(\"Confidence:\", prob[0])\n"
   ]
  },
  {
   "cell_type": "code",
   "execution_count": 15,
   "id": "29bc854b",
   "metadata": {},
   "outputs": [
    {
     "name": "stdout",
     "output_type": "stream",
     "text": [
      "                precision    recall  f1-score   support\n",
      "\n",
      "      ambition       0.00      0.00      0.00         2\n",
      "  appreciating       0.00      0.00      0.00         5\n",
      "  appreciation       0.00      0.00      0.00         1\n",
      "       believe       0.00      0.00      0.00         4\n",
      "        caring       0.00      0.00      0.00         1\n",
      "     character       0.00      0.00      0.00         1\n",
      "         cheer       0.00      0.00      0.00         3\n",
      "    commitment       0.00      0.00      0.00         3\n",
      "        common       0.00      0.00      0.00         2\n",
      "    compassion       0.00      0.00      0.00         5\n",
      "   compliments       0.00      0.00      0.00         2\n",
      "    confidence       0.00      0.00      0.00         7\n",
      "       courage       0.00      0.00      0.00         4\n",
      "      courtesy       0.00      0.00      0.00         2\n",
      "    creativity       0.00      0.00      0.00         5\n",
      "    dedication       0.00      0.00      0.00         1\n",
      "         drive       0.00      0.00      0.00         2\n",
      "     education       0.00      0.00      0.00         2\n",
      " encouragement       0.00      0.00      0.00         1\n",
      "      equality       0.00      0.00      0.00         2\n",
      "        family       0.00      0.00      0.00         3\n",
      "       fitness       0.00      0.00      0.00         2\n",
      "   forgiveness       0.00      0.00      0.00         3\n",
      "    friendship       0.00      0.00      0.00         3\n",
      "           get       0.00      0.00      0.00         2\n",
      "        giving       0.00      0.00      0.00         2\n",
      "          good       0.00      0.00      0.00         3\n",
      "     gratitude       0.00      0.00      0.00         6\n",
      "          hard       0.00      0.00      0.00         1\n",
      "        health       0.00      0.00      0.00         3\n",
      "       helping       0.00      0.00      0.00         4\n",
      "          hope       0.00      0.00      0.00         4\n",
      "      humility       0.00      0.00      0.00         1\n",
      "     including       0.00      0.00      0.00         2\n",
      "   inspiration       0.00      0.00      0.00         2\n",
      "           joy       0.00      0.00      0.00         4\n",
      "      kindness       0.00      0.00      0.00         3\n",
      "      laughter       0.00      0.00      0.00         3\n",
      "    leadership       0.00      0.00      0.00         1\n",
      "      learning       0.00      0.00      0.00         2\n",
      "     listening       0.00      0.00      0.00         1\n",
      "      literacy       0.00      0.00      0.00         3\n",
      "          live       0.00      0.00      0.00         1\n",
      "          love       0.00      0.00      0.00         2\n",
      "       loyalty       0.00      0.00      0.00         1\n",
      "        making       0.00      0.00      0.00         2\n",
      "   mindfulness       0.00      0.00      0.00         8\n",
      "      optimism       0.00      0.00      0.00         3\n",
      "         other       0.09      1.00      0.17        18\n",
      "    overcoming       0.00      0.00      0.00         4\n",
      "      patience       0.00      0.00      0.00         2\n",
      "         peace       0.00      0.00      0.00         1\n",
      "  perseverance       0.00      0.00      0.00         2\n",
      "   persistence       0.00      0.00      0.00         3\n",
      "      practice       0.00      0.00      0.00         2\n",
      "       purpose       0.00      0.00      0.00         2\n",
      "    resilience       0.00      0.00      0.00         1\n",
      "responsibility       0.00      0.00      0.00         2\n",
      "         right       0.00      0.00      0.00         3\n",
      "     self-care       0.00      0.00      0.00         2\n",
      "       service       0.00      0.00      0.00         1\n",
      "       sharing       0.00      0.00      0.00         2\n",
      "         smile       0.00      0.00      0.00         3\n",
      "          soul       0.00      0.00      0.00         3\n",
      "        spread       0.00      0.00      0.00         3\n",
      "   stewardship       0.00      0.00      0.00         4\n",
      "      strength       0.00      0.00      0.00         2\n",
      "          true       0.00      0.00      0.00         1\n",
      "         trust       0.00      0.00      0.00         2\n",
      "         unity       0.00      0.00      0.00         2\n",
      "  volunteering       0.00      0.00      0.00         1\n",
      "        wisdom       0.00      0.00      0.00         4\n",
      "\n",
      "      accuracy                           0.09       200\n",
      "     macro avg       0.00      0.01      0.00       200\n",
      "  weighted avg       0.01      0.09      0.01       200\n",
      "\n"
     ]
    },
    {
     "name": "stderr",
     "output_type": "stream",
     "text": [
      "c:\\Marsha\\College Apps\\Python\\environments\\nlp\\lib\\site-packages\\sklearn\\metrics\\_classification.py:1469: UndefinedMetricWarning: Precision and F-score are ill-defined and being set to 0.0 in labels with no predicted samples. Use `zero_division` parameter to control this behavior.\n",
      "  _warn_prf(average, modifier, msg_start, len(result))\n",
      "c:\\Marsha\\College Apps\\Python\\environments\\nlp\\lib\\site-packages\\sklearn\\metrics\\_classification.py:1469: UndefinedMetricWarning: Precision and F-score are ill-defined and being set to 0.0 in labels with no predicted samples. Use `zero_division` parameter to control this behavior.\n",
      "  _warn_prf(average, modifier, msg_start, len(result))\n",
      "c:\\Marsha\\College Apps\\Python\\environments\\nlp\\lib\\site-packages\\sklearn\\metrics\\_classification.py:1469: UndefinedMetricWarning: Precision and F-score are ill-defined and being set to 0.0 in labels with no predicted samples. Use `zero_division` parameter to control this behavior.\n",
      "  _warn_prf(average, modifier, msg_start, len(result))\n"
     ]
    }
   ],
   "source": [
    "from sklearn.metrics import classification_report, confusion_matrix\n",
    "test_texts = []\n",
    "true_labels = []\n",
    "\n",
    "with open(\"datasets/FTtest.txt\", \"r\", encoding=\"utf-8\") as f:\n",
    "    for line in f:\n",
    "        parts = line.strip().split(\" \", 1)\n",
    "        if len(parts) == 2:\n",
    "            label, text = parts\n",
    "            test_texts.append(text)\n",
    "            true_labels.append(label.replace(\"__label__\", \"\"))\n",
    "\n",
    "\n",
    "predicted_labels = []\n",
    "\n",
    "for text in test_texts:\n",
    "    label, _ = model.predict(text)\n",
    "    predicted_labels.append(label[0].replace(\"__label__\", \"\"))\n",
    "\n",
    "\n",
    "print(classification_report(true_labels, predicted_labels))\n",
    "\n"
   ]
  }
 ],
 "metadata": {
  "kernelspec": {
   "display_name": "nlp",
   "language": "python",
   "name": "python3"
  },
  "language_info": {
   "codemirror_mode": {
    "name": "ipython",
    "version": 3
   },
   "file_extension": ".py",
   "mimetype": "text/x-python",
   "name": "python",
   "nbconvert_exporter": "python",
   "pygments_lexer": "ipython3",
   "version": "3.10.9"
  }
 },
 "nbformat": 4,
 "nbformat_minor": 5
}
