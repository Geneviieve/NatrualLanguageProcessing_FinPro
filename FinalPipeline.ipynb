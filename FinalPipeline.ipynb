{
 "cells": [
  {
   "cell_type": "code",
   "execution_count": 36,
   "id": "dd6830e1",
   "metadata": {},
   "outputs": [],
   "source": [
    "import pickle\n",
    "import torch\n",
    "import pandas as pd\n",
    "from transformers import DistilBertTokenizerFast, DistilBertForSequenceClassification"
   ]
  },
  {
   "cell_type": "code",
   "execution_count": 37,
   "id": "a679483e",
   "metadata": {},
   "outputs": [],
   "source": [
    "#model 1\n",
    "with open('models/binary_quote_model.pkl', 'rb') as f:\n",
    "    model1 = pickle.load(f)\n",
    "with open('models/tfidf_vectorizer.pkl', 'rb') as f:\n",
    "    vectorizer = pickle.load(f)\n"
   ]
  },
  {
   "cell_type": "code",
   "execution_count": 38,
   "id": "d7728edf",
   "metadata": {},
   "outputs": [
    {
     "data": {
      "text/plain": [
       "DistilBertForSequenceClassification(\n",
       "  (distilbert): DistilBertModel(\n",
       "    (embeddings): Embeddings(\n",
       "      (word_embeddings): Embedding(30522, 768, padding_idx=0)\n",
       "      (position_embeddings): Embedding(512, 768)\n",
       "      (LayerNorm): LayerNorm((768,), eps=1e-12, elementwise_affine=True)\n",
       "      (dropout): Dropout(p=0.1, inplace=False)\n",
       "    )\n",
       "    (transformer): Transformer(\n",
       "      (layer): ModuleList(\n",
       "        (0-5): 6 x TransformerBlock(\n",
       "          (attention): DistilBertSdpaAttention(\n",
       "            (dropout): Dropout(p=0.1, inplace=False)\n",
       "            (q_lin): Linear(in_features=768, out_features=768, bias=True)\n",
       "            (k_lin): Linear(in_features=768, out_features=768, bias=True)\n",
       "            (v_lin): Linear(in_features=768, out_features=768, bias=True)\n",
       "            (out_lin): Linear(in_features=768, out_features=768, bias=True)\n",
       "          )\n",
       "          (sa_layer_norm): LayerNorm((768,), eps=1e-12, elementwise_affine=True)\n",
       "          (ffn): FFN(\n",
       "            (dropout): Dropout(p=0.1, inplace=False)\n",
       "            (lin1): Linear(in_features=768, out_features=3072, bias=True)\n",
       "            (lin2): Linear(in_features=3072, out_features=768, bias=True)\n",
       "            (activation): GELUActivation()\n",
       "          )\n",
       "          (output_layer_norm): LayerNorm((768,), eps=1e-12, elementwise_affine=True)\n",
       "        )\n",
       "      )\n",
       "    )\n",
       "  )\n",
       "  (pre_classifier): Linear(in_features=768, out_features=768, bias=True)\n",
       "  (classifier): Linear(in_features=768, out_features=115, bias=True)\n",
       "  (dropout): Dropout(p=0.2, inplace=False)\n",
       ")"
      ]
     },
     "execution_count": 38,
     "metadata": {},
     "output_type": "execute_result"
    }
   ],
   "source": [
    "#model 2\n",
    "tokenizer = DistilBertTokenizerFast.from_pretrained(\"models/distilbert_model_final\")\n",
    "model = DistilBertForSequenceClassification.from_pretrained(\"models/distilbert_model_final\")\n",
    "model.eval()"
   ]
  },
  {
   "cell_type": "code",
   "execution_count": 39,
   "id": "14fb94b8",
   "metadata": {},
   "outputs": [],
   "source": [
    "#label mapping buat convert dari yang encoded label\n",
    "df = pd.read_csv(\"datasets/cleanedDataSecondModel_merged.csv\")\n",
    "label_map = dict(df[['category_encoded', 'category']].drop_duplicates().values)"
   ]
  },
  {
   "cell_type": "code",
   "execution_count": 40,
   "id": "ea52871c",
   "metadata": {},
   "outputs": [],
   "source": [
    "def full_prediction_pipeline(user_input):\n",
    "    print(f\"\\nInput Quote: \\\"{user_input}\\\"\")\n",
    "    \n",
    "    vec = vectorizer.transform([user_input.lower()])\n",
    "    is_motivational = model1.predict(vec)[0]\n",
    "\n",
    "    if is_motivational == 0:\n",
    "        print(\"Model 1 → Not Motivational (x)\\n\")\n",
    "        return\n",
    "\n",
    "    print(\"Model 1 -- Motivational (v) → checking category...\")\n",
    "\n",
    "    inputs = tokenizer(user_input, return_tensors=\"pt\", truncation=True, padding=True, max_length=128)\n",
    "\n",
    "    with torch.no_grad():\n",
    "        outputs = model(**inputs)\n",
    "        logits = outputs.logits\n",
    "        predicted_label = torch.argmax(logits, dim=1).item()\n",
    "\n",
    "    predicted_category = label_map.get(predicted_label, \"Unknown\")\n",
    "    print(f\"Model 2 -- Predicted Category: {predicted_category}\\n\")"
   ]
  },
  {
   "cell_type": "code",
   "execution_count": 41,
   "id": "836a7265",
   "metadata": {},
   "outputs": [
    {
     "name": "stdout",
     "output_type": "stream",
     "text": [
      "\n",
      "Input Quote: \"believe in yourself and everything will fall into place\"\n",
      "Model 1 -- Motivational (v) → checking category...\n",
      "Model 2 -- Predicted Category: believe in yourself\n",
      "\n",
      "\n",
      "Input Quote: \"peace will always remain sacred\"\n",
      "Model 1 -- Motivational (v) → checking category...\n",
      "Model 2 -- Predicted Category: peace\n",
      "\n",
      "\n",
      "Input Quote: \"you are such a sore loser\"\n",
      "Model 1 → Not Motivational (x)\n",
      "\n",
      "\n",
      "Input Quote: \"the biggest form of love is letting go\"\n",
      "Model 1 -- Motivational (v) → checking category...\n",
      "Model 2 -- Predicted Category: love\n",
      "\n",
      "Goodbye!\n"
     ]
    }
   ],
   "source": [
    "while True:\n",
    "    quote = input(\"Enter quote ('exit' to quit): \")\n",
    "    if quote.lower() == 'exit':\n",
    "        print(\"Goodbye!\")\n",
    "        break\n",
    "    full_prediction_pipeline(quote)"
   ]
  }
 ],
 "metadata": {
  "kernelspec": {
   "display_name": "nlp",
   "language": "python",
   "name": "python3"
  },
  "language_info": {
   "codemirror_mode": {
    "name": "ipython",
    "version": 3
   },
   "file_extension": ".py",
   "mimetype": "text/x-python",
   "name": "python",
   "nbconvert_exporter": "python",
   "pygments_lexer": "ipython3",
   "version": "3.10.9"
  }
 },
 "nbformat": 4,
 "nbformat_minor": 5
}
