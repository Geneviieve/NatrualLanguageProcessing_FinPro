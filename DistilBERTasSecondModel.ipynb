{
 "cells": [
  {
   "cell_type": "code",
   "execution_count": 1,
   "id": "dac063ff",
   "metadata": {},
   "outputs": [
    {
     "name": "stdout",
     "output_type": "stream",
     "text": [
      "Requirement already satisfied: transformers in c:\\marsha\\college apps\\python\\environments\\nlp\\lib\\site-packages (4.51.3)\n",
      "Requirement already satisfied: datasets in c:\\marsha\\college apps\\python\\environments\\nlp\\lib\\site-packages (3.6.0)\n",
      "Requirement already satisfied: scikit-learn in c:\\marsha\\college apps\\python\\environments\\nlp\\lib\\site-packages (1.3.0)\n",
      "Requirement already satisfied: torch in c:\\marsha\\college apps\\python\\environments\\nlp\\lib\\site-packages (2.7.0)\n",
      "Requirement already satisfied: numpy>=1.17 in c:\\marsha\\college apps\\python\\environments\\nlp\\lib\\site-packages (from transformers) (1.25.2)\n",
      "Requirement already satisfied: tqdm>=4.27 in c:\\marsha\\college apps\\python\\environments\\nlp\\lib\\site-packages (from transformers) (4.67.1)\n",
      "Requirement already satisfied: safetensors>=0.4.3 in c:\\marsha\\college apps\\python\\environments\\nlp\\lib\\site-packages (from transformers) (0.5.3)\n",
      "Requirement already satisfied: regex!=2019.12.17 in c:\\marsha\\college apps\\python\\environments\\nlp\\lib\\site-packages (from transformers) (2024.11.6)\n",
      "Requirement already satisfied: requests in c:\\marsha\\college apps\\python\\environments\\nlp\\lib\\site-packages (from transformers) (2.32.3)\n",
      "Requirement already satisfied: filelock in c:\\marsha\\college apps\\python\\environments\\nlp\\lib\\site-packages (from transformers) (3.18.0)\n",
      "Requirement already satisfied: pyyaml>=5.1 in c:\\marsha\\college apps\\python\\environments\\nlp\\lib\\site-packages (from transformers) (6.0.2)\n",
      "Requirement already satisfied: tokenizers<0.22,>=0.21 in c:\\marsha\\college apps\\python\\environments\\nlp\\lib\\site-packages (from transformers) (0.21.1)\n",
      "Requirement already satisfied: huggingface-hub<1.0,>=0.30.0 in c:\\marsha\\college apps\\python\\environments\\nlp\\lib\\site-packages (from transformers) (0.31.2)\n",
      "Requirement already satisfied: packaging>=20.0 in c:\\marsha\\college apps\\python\\environments\\nlp\\lib\\site-packages (from transformers) (24.2)\n",
      "Requirement already satisfied: xxhash in c:\\marsha\\college apps\\python\\environments\\nlp\\lib\\site-packages (from datasets) (3.5.0)\n",
      "Requirement already satisfied: pyarrow>=15.0.0 in c:\\marsha\\college apps\\python\\environments\\nlp\\lib\\site-packages (from datasets) (20.0.0)\n",
      "Requirement already satisfied: multiprocess<0.70.17 in c:\\marsha\\college apps\\python\\environments\\nlp\\lib\\site-packages (from datasets) (0.70.16)\n",
      "Requirement already satisfied: fsspec[http]<=2025.3.0,>=2023.1.0 in c:\\marsha\\college apps\\python\\environments\\nlp\\lib\\site-packages (from datasets) (2025.3.0)\n",
      "Requirement already satisfied: dill<0.3.9,>=0.3.0 in c:\\marsha\\college apps\\python\\environments\\nlp\\lib\\site-packages (from datasets) (0.3.8)\n",
      "Requirement already satisfied: pandas in c:\\marsha\\college apps\\python\\environments\\nlp\\lib\\site-packages (from datasets) (2.1.4)\n",
      "Requirement already satisfied: threadpoolctl>=2.0.0 in c:\\marsha\\college apps\\python\\environments\\nlp\\lib\\site-packages (from scikit-learn) (3.5.0)\n",
      "Requirement already satisfied: scipy>=1.5.0 in c:\\marsha\\college apps\\python\\environments\\nlp\\lib\\site-packages (from scikit-learn) (1.11.4)\n",
      "Requirement already satisfied: joblib>=1.1.1 in c:\\marsha\\college apps\\python\\environments\\nlp\\lib\\site-packages (from scikit-learn) (1.4.2)\n",
      "Requirement already satisfied: jinja2 in c:\\marsha\\college apps\\python\\environments\\nlp\\lib\\site-packages (from torch) (3.1.5)\n",
      "Requirement already satisfied: networkx in c:\\marsha\\college apps\\python\\environments\\nlp\\lib\\site-packages (from torch) (3.4.2)\n",
      "Requirement already satisfied: typing-extensions>=4.10.0 in c:\\marsha\\college apps\\python\\environments\\nlp\\lib\\site-packages (from torch) (4.12.2)\n",
      "Requirement already satisfied: sympy>=1.13.3 in c:\\marsha\\college apps\\python\\environments\\nlp\\lib\\site-packages (from torch) (1.14.0)\n",
      "Requirement already satisfied: aiohttp!=4.0.0a0,!=4.0.0a1 in c:\\marsha\\college apps\\python\\environments\\nlp\\lib\\site-packages (from fsspec[http]<=2025.3.0,>=2023.1.0->datasets) (3.11.18)\n",
      "Requirement already satisfied: certifi>=2017.4.17 in c:\\marsha\\college apps\\python\\environments\\nlp\\lib\\site-packages (from requests->transformers) (2025.1.31)\n",
      "Requirement already satisfied: idna<4,>=2.5 in c:\\marsha\\college apps\\python\\environments\\nlp\\lib\\site-packages (from requests->transformers) (3.10)\n",
      "Requirement already satisfied: urllib3<3,>=1.21.1 in c:\\marsha\\college apps\\python\\environments\\nlp\\lib\\site-packages (from requests->transformers) (2.3.0)\n",
      "Requirement already satisfied: charset-normalizer<4,>=2 in c:\\marsha\\college apps\\python\\environments\\nlp\\lib\\site-packages (from requests->transformers) (3.4.1)\n",
      "Requirement already satisfied: mpmath<1.4,>=1.1.0 in c:\\marsha\\college apps\\python\\environments\\nlp\\lib\\site-packages (from sympy>=1.13.3->torch) (1.3.0)\n",
      "Requirement already satisfied: colorama in c:\\marsha\\college apps\\python\\environments\\nlp\\lib\\site-packages (from tqdm>=4.27->transformers) (0.4.6)\n",
      "Requirement already satisfied: MarkupSafe>=2.0 in c:\\marsha\\college apps\\python\\environments\\nlp\\lib\\site-packages (from jinja2->torch) (3.0.2)\n",
      "Requirement already satisfied: python-dateutil>=2.8.2 in c:\\marsha\\college apps\\python\\environments\\nlp\\lib\\site-packages (from pandas->datasets) (2.9.0.post0)\n",
      "Requirement already satisfied: pytz>=2020.1 in c:\\marsha\\college apps\\python\\environments\\nlp\\lib\\site-packages (from pandas->datasets) (2025.1)\n",
      "Requirement already satisfied: tzdata>=2022.1 in c:\\marsha\\college apps\\python\\environments\\nlp\\lib\\site-packages (from pandas->datasets) (2025.1)\n",
      "Requirement already satisfied: frozenlist>=1.1.1 in c:\\marsha\\college apps\\python\\environments\\nlp\\lib\\site-packages (from aiohttp!=4.0.0a0,!=4.0.0a1->fsspec[http]<=2025.3.0,>=2023.1.0->datasets) (1.6.0)\n",
      "Requirement already satisfied: multidict<7.0,>=4.5 in c:\\marsha\\college apps\\python\\environments\\nlp\\lib\\site-packages (from aiohttp!=4.0.0a0,!=4.0.0a1->fsspec[http]<=2025.3.0,>=2023.1.0->datasets) (6.4.3)\n",
      "Requirement already satisfied: aiohappyeyeballs>=2.3.0 in c:\\marsha\\college apps\\python\\environments\\nlp\\lib\\site-packages (from aiohttp!=4.0.0a0,!=4.0.0a1->fsspec[http]<=2025.3.0,>=2023.1.0->datasets) (2.6.1)\n",
      "Requirement already satisfied: yarl<2.0,>=1.17.0 in c:\\marsha\\college apps\\python\\environments\\nlp\\lib\\site-packages (from aiohttp!=4.0.0a0,!=4.0.0a1->fsspec[http]<=2025.3.0,>=2023.1.0->datasets) (1.20.0)\n",
      "Requirement already satisfied: propcache>=0.2.0 in c:\\marsha\\college apps\\python\\environments\\nlp\\lib\\site-packages (from aiohttp!=4.0.0a0,!=4.0.0a1->fsspec[http]<=2025.3.0,>=2023.1.0->datasets) (0.3.1)\n",
      "Requirement already satisfied: aiosignal>=1.1.2 in c:\\marsha\\college apps\\python\\environments\\nlp\\lib\\site-packages (from aiohttp!=4.0.0a0,!=4.0.0a1->fsspec[http]<=2025.3.0,>=2023.1.0->datasets) (1.3.2)\n",
      "Requirement already satisfied: async-timeout<6.0,>=4.0 in c:\\marsha\\college apps\\python\\environments\\nlp\\lib\\site-packages (from aiohttp!=4.0.0a0,!=4.0.0a1->fsspec[http]<=2025.3.0,>=2023.1.0->datasets) (5.0.1)\n",
      "Requirement already satisfied: attrs>=17.3.0 in c:\\marsha\\college apps\\python\\environments\\nlp\\lib\\site-packages (from aiohttp!=4.0.0a0,!=4.0.0a1->fsspec[http]<=2025.3.0,>=2023.1.0->datasets) (25.3.0)\n",
      "Requirement already satisfied: six>=1.5 in c:\\marsha\\college apps\\python\\environments\\nlp\\lib\\site-packages (from python-dateutil>=2.8.2->pandas->datasets) (1.17.0)\n",
      "Note: you may need to restart the kernel to use updated packages.\n"
     ]
    },
    {
     "name": "stderr",
     "output_type": "stream",
     "text": [
      "\n",
      "[notice] A new release of pip available: 22.3.1 -> 25.1.1\n",
      "[notice] To update, run: python.exe -m pip install --upgrade pip\n"
     ]
    }
   ],
   "source": [
    "pip install transformers datasets scikit-learn torch"
   ]
  },
  {
   "cell_type": "code",
   "execution_count": 2,
   "id": "4858bd3b",
   "metadata": {},
   "outputs": [],
   "source": [
    "import pandas as pd\n",
    "from sklearn.model_selection import train_test_split\n",
    "\n",
    "# Load dataset\n",
    "df = pd.read_csv(\"datasets/cleanedDataSecondModel_merged.csv\")\n",
    "\n",
    "# Rename for consistency (optional)\n",
    "df = df[['quote', 'category_encoded']]\n",
    "df.columns = ['text', 'label']\n",
    "\n",
    "# Split into train and test\n",
    "train_texts, test_texts, train_labels, test_labels = train_test_split(\n",
    "    df['text'].tolist(), df['label'].tolist(), test_size=0.2, random_state=42\n",
    ")\n"
   ]
  },
  {
   "cell_type": "code",
   "execution_count": 3,
   "id": "432abb45",
   "metadata": {},
   "outputs": [
    {
     "name": "stderr",
     "output_type": "stream",
     "text": [
      "c:\\Marsha\\College Apps\\Python\\environments\\nlp\\lib\\site-packages\\tqdm\\auto.py:21: TqdmWarning: IProgress not found. Please update jupyter and ipywidgets. See https://ipywidgets.readthedocs.io/en/stable/user_install.html\n",
      "  from .autonotebook import tqdm as notebook_tqdm\n"
     ]
    }
   ],
   "source": [
    "from transformers import DistilBertTokenizerFast\n",
    "\n",
    "# Load tokenizer\n",
    "tokenizer = DistilBertTokenizerFast.from_pretrained('distilbert-base-uncased')\n",
    "\n",
    "# Tokenize text\n",
    "train_encodings = tokenizer(train_texts, truncation=True, padding=True, max_length=128)\n",
    "test_encodings = tokenizer(test_texts, truncation=True, padding=True, max_length=128)\n"
   ]
  },
  {
   "cell_type": "code",
   "execution_count": 4,
   "id": "ba9ee8b5",
   "metadata": {},
   "outputs": [],
   "source": [
    "import torch\n",
    "\n",
    "class QuoteDataset(torch.utils.data.Dataset):\n",
    "    def __init__(self, encodings, labels):\n",
    "        self.encodings = encodings\n",
    "        self.labels = labels\n",
    "\n",
    "    def __len__(self):\n",
    "        return len(self.labels)\n",
    "\n",
    "    def __getitem__(self, idx):\n",
    "        return {\n",
    "            key: torch.tensor(val[idx])\n",
    "            for key, val in self.encodings.items()\n",
    "        } | {'labels': torch.tensor(self.labels[idx])}\n",
    "\n",
    "train_dataset = QuoteDataset(train_encodings, train_labels)\n",
    "test_dataset = QuoteDataset(test_encodings, test_labels)\n"
   ]
  },
  {
   "cell_type": "code",
   "execution_count": 5,
   "id": "97a60495",
   "metadata": {},
   "outputs": [],
   "source": [
    "# pip install transformers[torch]\n"
   ]
  },
  {
   "cell_type": "code",
   "execution_count": 6,
   "id": "efda9250",
   "metadata": {},
   "outputs": [],
   "source": [
    "# pip install accelerate>=0.26.0"
   ]
  },
  {
   "cell_type": "code",
   "execution_count": 7,
   "id": "7ceb3371",
   "metadata": {},
   "outputs": [
    {
     "name": "stderr",
     "output_type": "stream",
     "text": [
      "Some weights of DistilBertForSequenceClassification were not initialized from the model checkpoint at distilbert-base-uncased and are newly initialized: ['classifier.bias', 'classifier.weight', 'pre_classifier.bias', 'pre_classifier.weight']\n",
      "You should probably TRAIN this model on a down-stream task to be able to use it for predictions and inference.\n",
      "c:\\Marsha\\College Apps\\Python\\environments\\nlp\\lib\\site-packages\\torch\\utils\\data\\dataloader.py:665: UserWarning: 'pin_memory' argument is set as true but no accelerator is found, then device pinned memory won't be used.\n",
      "  warnings.warn(warn_msg)\n"
     ]
    },
    {
     "data": {
      "text/html": [
       "\n",
       "    <div>\n",
       "      \n",
       "      <progress value='400' max='400' style='width:300px; height:20px; vertical-align: middle;'></progress>\n",
       "      [400/400 18:53, Epoch 4/4]\n",
       "    </div>\n",
       "    <table border=\"1\" class=\"dataframe\">\n",
       "  <thead>\n",
       " <tr style=\"text-align: left;\">\n",
       "      <th>Epoch</th>\n",
       "      <th>Training Loss</th>\n",
       "      <th>Validation Loss</th>\n",
       "    </tr>\n",
       "  </thead>\n",
       "  <tbody>\n",
       "    <tr>\n",
       "      <td>1</td>\n",
       "      <td>4.592300</td>\n",
       "      <td>4.613040</td>\n",
       "    </tr>\n",
       "    <tr>\n",
       "      <td>2</td>\n",
       "      <td>4.278300</td>\n",
       "      <td>4.366952</td>\n",
       "    </tr>\n",
       "    <tr>\n",
       "      <td>3</td>\n",
       "      <td>3.945500</td>\n",
       "      <td>4.143814</td>\n",
       "    </tr>\n",
       "    <tr>\n",
       "      <td>4</td>\n",
       "      <td>3.703500</td>\n",
       "      <td>4.060951</td>\n",
       "    </tr>\n",
       "  </tbody>\n",
       "</table><p>"
      ],
      "text/plain": [
       "<IPython.core.display.HTML object>"
      ]
     },
     "metadata": {},
     "output_type": "display_data"
    },
    {
     "data": {
      "text/plain": [
       "TrainOutput(global_step=400, training_loss=4.213667144775391, metrics={'train_runtime': 1137.546, 'train_samples_per_second': 2.813, 'train_steps_per_second': 0.352, 'total_flos': 87936504384000.0, 'train_loss': 4.213667144775391, 'epoch': 4.0})"
      ]
     },
     "execution_count": 7,
     "metadata": {},
     "output_type": "execute_result"
    }
   ],
   "source": [
    "from transformers import DistilBertForSequenceClassification, Trainer, TrainingArguments\n",
    "\n",
    "# Define model\n",
    "num_labels = len(set(df['label']))\n",
    "model = DistilBertForSequenceClassification.from_pretrained(\"distilbert-base-uncased\", num_labels=num_labels)\n",
    "\n",
    "# Training arguments\n",
    "training_args = TrainingArguments(\n",
    "    output_dir=\"./results\",\n",
    "    num_train_epochs=4,\n",
    "    per_device_train_batch_size=8,\n",
    "    per_device_eval_batch_size=8,\n",
    "    eval_strategy=\"epoch\",\n",
    "    save_strategy=\"no\",\n",
    "    logging_dir=\"./logs\",\n",
    "    logging_steps=10\n",
    ")\n",
    "\n",
    "# Trainer setup\n",
    "trainer = Trainer(\n",
    "    model=model,\n",
    "    args=training_args,\n",
    "    train_dataset=train_dataset,\n",
    "    eval_dataset=test_dataset\n",
    ")\n",
    "\n",
    "# Train!\n",
    "trainer.train()\n"
   ]
  },
  {
   "cell_type": "code",
   "execution_count": 8,
   "id": "fff38707",
   "metadata": {},
   "outputs": [
    {
     "data": {
      "text/html": [],
      "text/plain": [
       "<IPython.core.display.HTML object>"
      ]
     },
     "metadata": {},
     "output_type": "display_data"
    },
    {
     "name": "stdout",
     "output_type": "stream",
     "text": [
      "              precision    recall  f1-score   support\n",
      "\n",
      "           0       0.00      0.00      0.00         1\n",
      "           1       0.00      0.00      0.00         2\n",
      "           2       1.00      1.00      1.00         1\n",
      "           3       0.00      0.00      0.00         2\n",
      "           4       0.00      0.00      0.00         3\n",
      "           5       0.00      0.00      0.00         1\n",
      "           6       0.14      0.67      0.24         6\n",
      "           7       0.00      0.00      0.00         1\n",
      "           8       0.00      0.00      0.00         1\n",
      "           9       0.50      0.50      0.50         4\n",
      "          12       0.00      0.00      0.00         1\n",
      "          14       0.00      0.00      0.00         1\n",
      "          15       0.00      0.00      0.00         1\n",
      "          16       0.11      1.00      0.20         1\n",
      "          17       0.00      0.00      0.00         1\n",
      "          18       0.20      1.00      0.33         1\n",
      "          20       0.27      0.75      0.40         4\n",
      "          21       0.00      0.00      0.00         2\n",
      "          22       0.45      0.83      0.59         6\n",
      "          23       0.00      0.00      0.00         1\n",
      "          24       0.00      0.00      0.00         2\n",
      "          25       0.00      0.00      0.00         1\n",
      "          27       0.00      0.00      0.00         1\n",
      "          29       0.00      0.00      0.00         1\n",
      "          31       0.00      0.00      0.00         1\n",
      "          32       0.00      0.00      0.00         1\n",
      "          33       0.00      0.00      0.00         5\n",
      "          34       0.00      0.00      0.00         2\n",
      "          35       0.00      0.00      0.00         1\n",
      "          36       0.23      1.00      0.38         3\n",
      "          37       0.00      0.00      0.00         1\n",
      "          38       0.67      0.50      0.57         4\n",
      "          39       1.00      0.75      0.86         4\n",
      "          41       0.00      0.00      0.00         0\n",
      "          42       0.00      0.00      0.00         1\n",
      "          43       0.00      0.00      0.00         1\n",
      "          45       0.11      1.00      0.20         1\n",
      "          47       0.33      0.33      0.33         3\n",
      "          49       0.33      0.50      0.40         2\n",
      "          50       0.00      0.00      0.00         2\n",
      "          51       0.29      0.67      0.40         3\n",
      "          52       0.00      0.00      0.00         1\n",
      "          53       0.00      0.00      0.00         1\n",
      "          54       0.00      0.00      0.00         3\n",
      "          55       0.00      0.00      0.00         1\n",
      "          56       0.00      0.00      0.00         2\n",
      "          57       0.00      0.00      0.00         2\n",
      "          58       0.00      0.00      0.00         2\n",
      "          60       0.38      0.50      0.43         6\n",
      "          61       0.00      0.00      0.00         1\n",
      "          62       0.21      0.67      0.32         6\n",
      "          63       0.17      1.00      0.29         1\n",
      "          64       0.00      0.00      0.00         5\n",
      "          65       0.00      0.00      0.00         1\n",
      "          66       1.00      0.60      0.75         5\n",
      "          68       0.50      0.25      0.33         4\n",
      "          69       0.00      0.00      0.00         3\n",
      "          70       0.50      0.78      0.61         9\n",
      "          71       1.00      0.75      0.86         4\n",
      "          72       1.00      0.33      0.50         3\n",
      "          73       0.00      0.00      0.00         1\n",
      "          74       0.50      0.50      0.50         2\n",
      "          75       0.00      0.00      0.00         7\n",
      "          77       0.00      0.00      0.00         3\n",
      "          78       0.00      0.00      0.00         7\n",
      "          79       0.00      0.00      0.00         1\n",
      "          80       0.00      0.00      0.00         1\n",
      "          81       0.00      0.00      0.00         1\n",
      "          82       0.33      1.00      0.50         1\n",
      "          83       0.25      0.33      0.29         3\n",
      "          84       0.50      0.50      0.50         2\n",
      "          85       0.00      0.00      0.00         1\n",
      "          86       1.00      1.00      1.00         1\n",
      "          87       0.00      0.00      0.00         2\n",
      "          91       0.00      0.00      0.00         2\n",
      "          92       0.00      0.00      0.00         2\n",
      "          93       0.00      0.00      0.00         1\n",
      "          94       0.00      0.00      0.00         1\n",
      "          95       0.00      0.00      0.00         2\n",
      "          97       0.00      0.00      0.00         1\n",
      "         100       0.67      0.67      0.67         3\n",
      "         101       0.00      0.00      0.00         0\n",
      "         102       0.00      0.00      0.00         1\n",
      "         103       0.09      0.33      0.14         3\n",
      "         104       0.00      0.00      0.00         1\n",
      "         108       1.00      0.50      0.67         2\n",
      "         109       0.00      0.00      0.00         1\n",
      "         110       0.00      0.00      0.00         3\n",
      "         112       0.00      0.00      0.00         2\n",
      "         114       0.00      0.00      0.00         1\n",
      "\n",
      "    accuracy                           0.31       200\n",
      "   macro avg       0.16      0.22      0.16       200\n",
      "weighted avg       0.24      0.31      0.24       200\n",
      "\n"
     ]
    },
    {
     "name": "stderr",
     "output_type": "stream",
     "text": [
      "c:\\Marsha\\College Apps\\Python\\environments\\nlp\\lib\\site-packages\\sklearn\\metrics\\_classification.py:1469: UndefinedMetricWarning: Precision and F-score are ill-defined and being set to 0.0 in labels with no predicted samples. Use `zero_division` parameter to control this behavior.\n",
      "  _warn_prf(average, modifier, msg_start, len(result))\n",
      "c:\\Marsha\\College Apps\\Python\\environments\\nlp\\lib\\site-packages\\sklearn\\metrics\\_classification.py:1469: UndefinedMetricWarning: Recall and F-score are ill-defined and being set to 0.0 in labels with no true samples. Use `zero_division` parameter to control this behavior.\n",
      "  _warn_prf(average, modifier, msg_start, len(result))\n",
      "c:\\Marsha\\College Apps\\Python\\environments\\nlp\\lib\\site-packages\\sklearn\\metrics\\_classification.py:1469: UndefinedMetricWarning: Precision and F-score are ill-defined and being set to 0.0 in labels with no predicted samples. Use `zero_division` parameter to control this behavior.\n",
      "  _warn_prf(average, modifier, msg_start, len(result))\n",
      "c:\\Marsha\\College Apps\\Python\\environments\\nlp\\lib\\site-packages\\sklearn\\metrics\\_classification.py:1469: UndefinedMetricWarning: Recall and F-score are ill-defined and being set to 0.0 in labels with no true samples. Use `zero_division` parameter to control this behavior.\n",
      "  _warn_prf(average, modifier, msg_start, len(result))\n",
      "c:\\Marsha\\College Apps\\Python\\environments\\nlp\\lib\\site-packages\\sklearn\\metrics\\_classification.py:1469: UndefinedMetricWarning: Precision and F-score are ill-defined and being set to 0.0 in labels with no predicted samples. Use `zero_division` parameter to control this behavior.\n",
      "  _warn_prf(average, modifier, msg_start, len(result))\n",
      "c:\\Marsha\\College Apps\\Python\\environments\\nlp\\lib\\site-packages\\sklearn\\metrics\\_classification.py:1469: UndefinedMetricWarning: Recall and F-score are ill-defined and being set to 0.0 in labels with no true samples. Use `zero_division` parameter to control this behavior.\n",
      "  _warn_prf(average, modifier, msg_start, len(result))\n"
     ]
    }
   ],
   "source": [
    "import numpy as np\n",
    "from sklearn.metrics import classification_report\n",
    "\n",
    "# Make predictions\n",
    "preds = trainer.predict(test_dataset)\n",
    "pred_labels = np.argmax(preds.predictions, axis=1)\n",
    "\n",
    "# Print evaluation\n",
    "print(classification_report(test_labels, pred_labels))\n"
   ]
  }
 ],
 "metadata": {
  "kernelspec": {
   "display_name": "nlp",
   "language": "python",
   "name": "python3"
  },
  "language_info": {
   "codemirror_mode": {
    "name": "ipython",
    "version": 3
   },
   "file_extension": ".py",
   "mimetype": "text/x-python",
   "name": "python",
   "nbconvert_exporter": "python",
   "pygments_lexer": "ipython3",
   "version": "3.10.9"
  }
 },
 "nbformat": 4,
 "nbformat_minor": 5
}
