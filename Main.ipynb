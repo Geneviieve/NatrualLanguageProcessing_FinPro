{
 "cells": [
  {
   "cell_type": "markdown",
   "id": "e95e44f8",
   "metadata": {},
   "source": [
    "# 1. First Model\n",
    "\n",
    "## determine if its motivational/not\n",
    "#### w/ logistic regression model\n"
   ]
  },
  {
   "cell_type": "code",
   "execution_count": 1,
   "id": "1973bdae",
   "metadata": {},
   "outputs": [
    {
     "name": "stdout",
     "output_type": "stream",
     "text": [
      "Classification Report:\n",
      "               precision    recall  f1-score   support\n",
      "\n",
      "           0       0.92      0.96      0.94       203\n",
      "           1       0.96      0.92      0.94       197\n",
      "\n",
      "    accuracy                           0.94       400\n",
      "   macro avg       0.94      0.94      0.94       400\n",
      "weighted avg       0.94      0.94      0.94       400\n",
      "\n",
      "Confusion Matrix:\n",
      " [[195   8]\n",
      " [ 16 181]]\n",
      "Motivational (1)\n",
      "Not Motivational (0)\n"
     ]
    }
   ],
   "source": [
    "import pandas as pd\n",
    "from sklearn.model_selection import train_test_split\n",
    "from sklearn.feature_extraction.text import TfidfVectorizer\n",
    "from sklearn.linear_model import LogisticRegression\n",
    "from sklearn.metrics import classification_report, confusion_matrix\n",
    "\n",
    "df = pd.read_csv('datasets/binaryDataFirstModel.csv')\n",
    "\n",
    "X = df['quote']\n",
    "y = df['label']\n",
    "\n",
    "#vectorize\n",
    "vectorizer = TfidfVectorizer(max_features=5000, ngram_range=(1,2), stop_words='english')\n",
    "X_vec = vectorizer.fit_transform(X)\n",
    "\n",
    "\n",
    "\n",
    "#splitting\n",
    "X_train, X_test, y_train, y_test = train_test_split(X_vec, y, test_size=0.2, random_state=42)\n",
    "\n",
    "#logreg model\n",
    "model = LogisticRegression()\n",
    "model.fit(X_train, y_train)\n",
    "\n",
    "#eval\n",
    "y_pred = model.predict(X_test)\n",
    "print(\"Classification Report:\\n\", classification_report(y_test, y_pred))\n",
    "print(\"Confusion Matrix:\\n\", confusion_matrix(y_test, y_pred))\n",
    "\n",
    "\n",
    "#save to pickle (optional)\n",
    "import pickle\n",
    "with open('binary_quote_model.pkl', 'wb') as f:\n",
    "    pickle.dump(model, f)\n",
    "with open('tfidf_vectorizer.pkl', 'wb') as f:\n",
    "    pickle.dump(vectorizer, f)\n",
    "\n",
    "\n",
    "\n",
    "#test\n",
    "def predict_quote(quote):\n",
    "    quote_clean = quote.lower()\n",
    "    vec = vectorizer.transform([quote_clean])\n",
    "    pred = model.predict(vec)[0]\n",
    "    return \"Motivational (1)\" if pred == 1 else \"Not Motivational (0)\"\n",
    "\n",
    "print(predict_quote(\"believe in yourself and all that you are\"))\n",
    "print(predict_quote(\"this movie was a complete waste of time\"))\n"
   ]
  },
  {
   "cell_type": "markdown",
   "id": "c2e00c56",
   "metadata": {},
   "source": [
    "# 2. Second Model\n",
    "## Nentuin categorynya\n",
    "#### w/ TF-IDF + logistic regression model"
   ]
  },
  {
   "cell_type": "code",
   "execution_count": 4,
   "id": "cca8d4ef",
   "metadata": {},
   "outputs": [
    {
     "name": "stdout",
     "output_type": "stream",
     "text": [
      "Classification Report:\n",
      "               precision    recall  f1-score   support\n",
      "\n",
      "           0       0.00      0.00      0.00        15\n",
      "           1       0.00      0.00      0.00         8\n",
      "           2       0.50      0.19      0.28        42\n",
      "           3       1.00      0.21      0.34        29\n",
      "           4       0.68      0.57      0.62        49\n",
      "           5       0.38      0.91      0.54        57\n",
      "\n",
      "    accuracy                           0.47       200\n",
      "   macro avg       0.43      0.31      0.30       200\n",
      "weighted avg       0.53      0.47      0.41       200\n",
      "\n",
      "Confusion Matrix:\n",
      " [[ 0  0  0  0  2 13]\n",
      " [ 0  0  1  0  0  7]\n",
      " [ 0  0  8  0  7 27]\n",
      " [ 0  0  1  6  2 20]\n",
      " [ 0  0  3  0 28 18]\n",
      " [ 0  0  3  0  2 52]]\n",
      "being there\n"
     ]
    },
    {
     "name": "stderr",
     "output_type": "stream",
     "text": [
      "c:\\Users\\VJ24-1\\AppData\\Local\\Programs\\Python\\Python310\\lib\\site-packages\\sklearn\\metrics\\_classification.py:1565: UndefinedMetricWarning: Precision is ill-defined and being set to 0.0 in labels with no predicted samples. Use `zero_division` parameter to control this behavior.\n",
      "  _warn_prf(average, modifier, f\"{metric.capitalize()} is\", len(result))\n",
      "c:\\Users\\VJ24-1\\AppData\\Local\\Programs\\Python\\Python310\\lib\\site-packages\\sklearn\\metrics\\_classification.py:1565: UndefinedMetricWarning: Precision is ill-defined and being set to 0.0 in labels with no predicted samples. Use `zero_division` parameter to control this behavior.\n",
      "  _warn_prf(average, modifier, f\"{metric.capitalize()} is\", len(result))\n",
      "c:\\Users\\VJ24-1\\AppData\\Local\\Programs\\Python\\Python310\\lib\\site-packages\\sklearn\\metrics\\_classification.py:1565: UndefinedMetricWarning: Precision is ill-defined and being set to 0.0 in labels with no predicted samples. Use `zero_division` parameter to control this behavior.\n",
      "  _warn_prf(average, modifier, f\"{metric.capitalize()} is\", len(result))\n"
     ]
    }
   ],
   "source": [
    "import pandas as pd\n",
    "from sklearn.model_selection import train_test_split\n",
    "from sklearn.feature_extraction.text import TfidfVectorizer\n",
    "from sklearn.linear_model import LogisticRegression\n",
    "from sklearn.metrics import classification_report, confusion_matrix\n",
    "\n",
    "df = pd.read_csv('datasets/cleanedDataSecondModel_merged.csv') # ini yg diganti\" sama merged dan dataset sebelumnya\n",
    "\n",
    "X = df['quote']\n",
    "y = df['general_label_encoded']\n",
    "\n",
    "#TFIDF \n",
    "vectorizer = TfidfVectorizer(max_features=5000, ngram_range=(1,2), stop_words='english')\n",
    "X_vec = vectorizer.fit_transform(X)\n",
    "\n",
    "#splitting\n",
    "X_train, X_test, y_train, y_test = train_test_split(X_vec, y, test_size=0.2, random_state=42)\n",
    "\n",
    "#logreg model\n",
    "model = LogisticRegression(max_iter=1000)\n",
    "model.fit(X_train, y_train)\n",
    "\n",
    "#eval\n",
    "y_pred = model.predict(X_test)\n",
    "print(\"Classification Report:\\n\", classification_report(y_test, y_pred))\n",
    "print(\"Confusion Matrix:\\n\", confusion_matrix(y_test, y_pred))\n",
    "\n",
    "\n",
    "#save to pickle (optional)\n",
    "import pickle\n",
    "with open('models/category_model.pkl', 'wb') as f:\n",
    "    pickle.dump(model, f)\n",
    "with open('models/category_vectorizer.pkl', 'wb') as f:\n",
    "    pickle.dump(vectorizer, f)\n",
    "\n",
    "\n",
    "\n",
    "#decode category\n",
    "with open('models/label_encoder.pkl', 'rb') as f:\n",
    "    label_encoder = pickle.load(f)\n",
    "\n",
    "\n",
    "#test\n",
    "def predict_category(quote):\n",
    "    quote_clean = quote.lower()\n",
    "    vec = vectorizer.transform([quote_clean])\n",
    "    pred = model.predict(vec)[0]\n",
    "    return label_encoder.inverse_transform([pred])[0]\n",
    "\n",
    "#print(predict_category(\"Let yourself rest and find peace\"))\n",
    "print(predict_category(\"Success is not final, failure is not fatal\"))"
   ]
  },
  {
   "cell_type": "code",
   "execution_count": 2,
   "id": "f2054a4d",
   "metadata": {},
   "outputs": [
    {
     "name": "stdout",
     "output_type": "stream",
     "text": [
      "{'label': 'Motivational', 'category': 'believe in yourself'}\n",
      "{'label': 'Not Motivational', 'category': None}\n",
      "{'label': 'Motivational', 'category': 'peace'}\n"
     ]
    }
   ],
   "source": [
    "import pickle\n",
    "\n",
    "with open('models/binary_quote_model.pkl', 'rb') as f:\n",
    "    binary_model = pickle.load(f)\n",
    "with open('models/tfidf_vectorizer.pkl', 'rb') as f:\n",
    "    binary_vectorizer = pickle.load(f)\n",
    "with open('models/category_model.pkl', 'rb') as f:\n",
    "    category_model = pickle.load(f)\n",
    "with open('models/category_vectorizer.pkl', 'rb') as f:\n",
    "    category_vectorizer = pickle.load(f)\n",
    "with open('models/label_encoder.pkl', 'rb') as f:\n",
    "    label_encoder = pickle.load(f)\n",
    "\n",
    "#tes gabungan\n",
    "def classify_quote(quote):\n",
    "    quote_clean = quote.lower().strip()\n",
    "    \n",
    "    #model 1\n",
    "    vec_bin = binary_vectorizer.transform([quote_clean])\n",
    "    binary_pred = binary_model.predict(vec_bin)[0]\n",
    "\n",
    "    if binary_pred == 0:\n",
    "        return {\n",
    "            \"label\": \"Not Motivational\",\n",
    "            \"category\": None\n",
    "        }\n",
    "    \n",
    "    #model 2\n",
    "    vec_cat = category_vectorizer.transform([quote_clean])\n",
    "    category_pred = category_model.predict(vec_cat)[0]\n",
    "    category_label = label_encoder.inverse_transform([category_pred])[0]\n",
    "\n",
    "    return {\n",
    "        \"label\": \"Motivational\",\n",
    "        \"category\": category_label\n",
    "    }\n",
    "\n",
    "#conoth\n",
    "print(classify_quote(\"believe in yourself and all that you are\"))\n",
    "print(classify_quote(\"this movie was a total failure\"))\n",
    "print(classify_quote(\"Let yourself rest and find peace\"))\n"
   ]
  },
  {
   "cell_type": "code",
   "execution_count": 4,
   "id": "4b2181d6",
   "metadata": {},
   "outputs": [
    {
     "name": "stdout",
     "output_type": "stream",
     "text": [
      "=== Quote Classifier ===\n",
      "Type in your qoute:\n",
      "Type 'exit' to quit.\n",
      "\n",
      "\"i believe in you and everything that you do\"\n",
      "\n",
      "Result:\n",
      ">>Quote Type: Motivational\n",
      ">>Category  : believe in yourself\n",
      "\n",
      "\n",
      "Goodbye\n"
     ]
    }
   ],
   "source": [
    "#pakai input user\n",
    "def run_interactive_classifier():\n",
    "    print(\"=== Quote Classifier ===\")\n",
    "    print(\"Type in your qoute:\")\n",
    "    print(\"Type 'exit' to quit.\\n\")\n",
    "    \n",
    "    while True:\n",
    "        user_input = input(\"Enter a quote: \").strip()\n",
    "        if user_input.lower() == 'exit':\n",
    "            print(\"Goodbye\")\n",
    "            break\n",
    "        \n",
    "        print(f\"\\\"{user_input}\\\"\")\n",
    "        result = classify_quote(user_input)\n",
    "        print(\"\\nResult:\")\n",
    "        print(\">>Quote Type:\", result[\"label\"])\n",
    "        if result[\"category\"]:\n",
    "            print(\">>Category  :\", result[\"category\"])\n",
    "        print(\"\\n\")\n",
    "run_interactive_classifier()\n"
   ]
  },
  {
   "cell_type": "markdown",
   "id": "6a87a733",
   "metadata": {},
   "source": [
    "mungkin next phase bisa ngasih opsi apakah quote yg user input mau dimasukin ke dataset juga (biar makin akurat?) baik yg positive maupun yg negative"
   ]
  },
  {
   "cell_type": "markdown",
   "id": "33bacbeb",
   "metadata": {},
   "source": [
    "coba neural network/bert"
   ]
  }
 ],
 "metadata": {
  "kernelspec": {
   "display_name": "Python 3",
   "language": "python",
   "name": "python3"
  },
  "language_info": {
   "codemirror_mode": {
    "name": "ipython",
    "version": 3
   },
   "file_extension": ".py",
   "mimetype": "text/x-python",
   "name": "python",
   "nbconvert_exporter": "python",
   "pygments_lexer": "ipython3",
   "version": "3.10.9"
  }
 },
 "nbformat": 4,
 "nbformat_minor": 5
}
